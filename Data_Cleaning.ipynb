{
 "cells": [
  {
   "cell_type": "code",
   "execution_count": 1,
   "id": "5b3d5b4b",
   "metadata": {},
   "outputs": [],
   "source": [
    "import pandas as pd\n",
    "import numpy as np \n",
    "import csv"
   ]
  },
  {
   "cell_type": "code",
   "execution_count": 2,
   "id": "2fefa6ce",
   "metadata": {},
   "outputs": [],
   "source": [
    "df=pd.read_csv('energy.csv')"
   ]
  },
  {
   "cell_type": "code",
   "execution_count": 3,
   "id": "d7b499ff",
   "metadata": {},
   "outputs": [
    {
     "data": {
      "text/html": [
       "<div>\n",
       "<style scoped>\n",
       "    .dataframe tbody tr th:only-of-type {\n",
       "        vertical-align: middle;\n",
       "    }\n",
       "\n",
       "    .dataframe tbody tr th {\n",
       "        vertical-align: top;\n",
       "    }\n",
       "\n",
       "    .dataframe thead th {\n",
       "        text-align: right;\n",
       "    }\n",
       "</style>\n",
       "<table border=\"1\" class=\"dataframe\">\n",
       "  <thead>\n",
       "    <tr style=\"text-align: right;\">\n",
       "      <th></th>\n",
       "      <th>Unnamed: 0</th>\n",
       "      <th>Country</th>\n",
       "      <th>Energy_type</th>\n",
       "      <th>Year</th>\n",
       "      <th>Energy_consumption</th>\n",
       "      <th>Energy_production</th>\n",
       "      <th>GDP</th>\n",
       "      <th>Population</th>\n",
       "      <th>Energy_intensity_per_capita</th>\n",
       "      <th>Energy_intensity_by_GDP</th>\n",
       "      <th>CO2_emission</th>\n",
       "    </tr>\n",
       "  </thead>\n",
       "  <tbody>\n",
       "    <tr>\n",
       "      <th>0</th>\n",
       "      <td>0</td>\n",
       "      <td>World</td>\n",
       "      <td>all_energy_types</td>\n",
       "      <td>1980</td>\n",
       "      <td>292.899790</td>\n",
       "      <td>296.337228</td>\n",
       "      <td>27770.91028</td>\n",
       "      <td>4298126.522</td>\n",
       "      <td>68.145921</td>\n",
       "      <td>10.547000</td>\n",
       "      <td>4946.627130</td>\n",
       "    </tr>\n",
       "    <tr>\n",
       "      <th>1</th>\n",
       "      <td>1</td>\n",
       "      <td>World</td>\n",
       "      <td>coal</td>\n",
       "      <td>1980</td>\n",
       "      <td>78.656134</td>\n",
       "      <td>80.114194</td>\n",
       "      <td>27770.91028</td>\n",
       "      <td>4298126.522</td>\n",
       "      <td>68.145921</td>\n",
       "      <td>10.547000</td>\n",
       "      <td>1409.790188</td>\n",
       "    </tr>\n",
       "    <tr>\n",
       "      <th>2</th>\n",
       "      <td>2</td>\n",
       "      <td>World</td>\n",
       "      <td>natural_gas</td>\n",
       "      <td>1980</td>\n",
       "      <td>53.865223</td>\n",
       "      <td>54.761046</td>\n",
       "      <td>27770.91028</td>\n",
       "      <td>4298126.522</td>\n",
       "      <td>68.145921</td>\n",
       "      <td>10.547000</td>\n",
       "      <td>1081.593377</td>\n",
       "    </tr>\n",
       "    <tr>\n",
       "      <th>3</th>\n",
       "      <td>3</td>\n",
       "      <td>World</td>\n",
       "      <td>petroleum_n_other_liquids</td>\n",
       "      <td>1980</td>\n",
       "      <td>132.064019</td>\n",
       "      <td>133.111109</td>\n",
       "      <td>27770.91028</td>\n",
       "      <td>4298126.522</td>\n",
       "      <td>68.145921</td>\n",
       "      <td>10.547000</td>\n",
       "      <td>2455.243565</td>\n",
       "    </tr>\n",
       "    <tr>\n",
       "      <th>4</th>\n",
       "      <td>4</td>\n",
       "      <td>World</td>\n",
       "      <td>nuclear</td>\n",
       "      <td>1980</td>\n",
       "      <td>7.575700</td>\n",
       "      <td>7.575700</td>\n",
       "      <td>27770.91028</td>\n",
       "      <td>4298126.522</td>\n",
       "      <td>68.145921</td>\n",
       "      <td>10.547000</td>\n",
       "      <td>0.000000</td>\n",
       "    </tr>\n",
       "    <tr>\n",
       "      <th>...</th>\n",
       "      <td>...</td>\n",
       "      <td>...</td>\n",
       "      <td>...</td>\n",
       "      <td>...</td>\n",
       "      <td>...</td>\n",
       "      <td>...</td>\n",
       "      <td>...</td>\n",
       "      <td>...</td>\n",
       "      <td>...</td>\n",
       "      <td>...</td>\n",
       "      <td>...</td>\n",
       "    </tr>\n",
       "    <tr>\n",
       "      <th>55435</th>\n",
       "      <td>55435</td>\n",
       "      <td>Zimbabwe</td>\n",
       "      <td>coal</td>\n",
       "      <td>2019</td>\n",
       "      <td>0.045064</td>\n",
       "      <td>0.075963</td>\n",
       "      <td>37.62040</td>\n",
       "      <td>14654.200</td>\n",
       "      <td>11.508701</td>\n",
       "      <td>4.482962</td>\n",
       "      <td>4.586869</td>\n",
       "    </tr>\n",
       "    <tr>\n",
       "      <th>55436</th>\n",
       "      <td>55436</td>\n",
       "      <td>Zimbabwe</td>\n",
       "      <td>natural_gas</td>\n",
       "      <td>2019</td>\n",
       "      <td>0.000000</td>\n",
       "      <td>0.000000</td>\n",
       "      <td>37.62040</td>\n",
       "      <td>14654.200</td>\n",
       "      <td>11.508701</td>\n",
       "      <td>4.482962</td>\n",
       "      <td>0.000000</td>\n",
       "    </tr>\n",
       "    <tr>\n",
       "      <th>55437</th>\n",
       "      <td>55437</td>\n",
       "      <td>Zimbabwe</td>\n",
       "      <td>petroleum_n_other_liquids</td>\n",
       "      <td>2019</td>\n",
       "      <td>0.055498</td>\n",
       "      <td>0.000000</td>\n",
       "      <td>37.62040</td>\n",
       "      <td>14654.200</td>\n",
       "      <td>11.508701</td>\n",
       "      <td>4.482962</td>\n",
       "      <td>4.377890</td>\n",
       "    </tr>\n",
       "    <tr>\n",
       "      <th>55438</th>\n",
       "      <td>55438</td>\n",
       "      <td>Zimbabwe</td>\n",
       "      <td>nuclear</td>\n",
       "      <td>2019</td>\n",
       "      <td>NaN</td>\n",
       "      <td>NaN</td>\n",
       "      <td>37.62040</td>\n",
       "      <td>14654.200</td>\n",
       "      <td>11.508701</td>\n",
       "      <td>4.482962</td>\n",
       "      <td>0.000000</td>\n",
       "    </tr>\n",
       "    <tr>\n",
       "      <th>55439</th>\n",
       "      <td>55439</td>\n",
       "      <td>Zimbabwe</td>\n",
       "      <td>renewables_n_other</td>\n",
       "      <td>2019</td>\n",
       "      <td>0.068089</td>\n",
       "      <td>0.067499</td>\n",
       "      <td>37.62040</td>\n",
       "      <td>14654.200</td>\n",
       "      <td>11.508701</td>\n",
       "      <td>4.482962</td>\n",
       "      <td>0.000000</td>\n",
       "    </tr>\n",
       "  </tbody>\n",
       "</table>\n",
       "<p>55440 rows × 11 columns</p>\n",
       "</div>"
      ],
      "text/plain": [
       "       Unnamed: 0   Country                Energy_type  Year  \\\n",
       "0               0     World           all_energy_types  1980   \n",
       "1               1     World                       coal  1980   \n",
       "2               2     World                natural_gas  1980   \n",
       "3               3     World  petroleum_n_other_liquids  1980   \n",
       "4               4     World                    nuclear  1980   \n",
       "...           ...       ...                        ...   ...   \n",
       "55435       55435  Zimbabwe                       coal  2019   \n",
       "55436       55436  Zimbabwe                natural_gas  2019   \n",
       "55437       55437  Zimbabwe  petroleum_n_other_liquids  2019   \n",
       "55438       55438  Zimbabwe                    nuclear  2019   \n",
       "55439       55439  Zimbabwe         renewables_n_other  2019   \n",
       "\n",
       "       Energy_consumption  Energy_production          GDP   Population  \\\n",
       "0              292.899790         296.337228  27770.91028  4298126.522   \n",
       "1               78.656134          80.114194  27770.91028  4298126.522   \n",
       "2               53.865223          54.761046  27770.91028  4298126.522   \n",
       "3              132.064019         133.111109  27770.91028  4298126.522   \n",
       "4                7.575700           7.575700  27770.91028  4298126.522   \n",
       "...                   ...                ...          ...          ...   \n",
       "55435            0.045064           0.075963     37.62040    14654.200   \n",
       "55436            0.000000           0.000000     37.62040    14654.200   \n",
       "55437            0.055498           0.000000     37.62040    14654.200   \n",
       "55438                 NaN                NaN     37.62040    14654.200   \n",
       "55439            0.068089           0.067499     37.62040    14654.200   \n",
       "\n",
       "       Energy_intensity_per_capita  Energy_intensity_by_GDP  CO2_emission  \n",
       "0                        68.145921                10.547000   4946.627130  \n",
       "1                        68.145921                10.547000   1409.790188  \n",
       "2                        68.145921                10.547000   1081.593377  \n",
       "3                        68.145921                10.547000   2455.243565  \n",
       "4                        68.145921                10.547000      0.000000  \n",
       "...                            ...                      ...           ...  \n",
       "55435                    11.508701                 4.482962      4.586869  \n",
       "55436                    11.508701                 4.482962      0.000000  \n",
       "55437                    11.508701                 4.482962      4.377890  \n",
       "55438                    11.508701                 4.482962      0.000000  \n",
       "55439                    11.508701                 4.482962      0.000000  \n",
       "\n",
       "[55440 rows x 11 columns]"
      ]
     },
     "execution_count": 3,
     "metadata": {},
     "output_type": "execute_result"
    }
   ],
   "source": [
    "df"
   ]
  },
  {
   "cell_type": "code",
   "execution_count": 27,
   "id": "78582faf",
   "metadata": {},
   "outputs": [
    {
     "data": {
      "text/plain": [
       "Index(['Country', 'Energy_type', 'Year', 'Energy_consumption',\n",
       "       'Energy_production', 'GDP', 'Population', 'Energy_intensity_per_capita',\n",
       "       'Energy_intensity_by_GDP', 'CO2_emission'],\n",
       "      dtype='object')"
      ]
     },
     "execution_count": 27,
     "metadata": {},
     "output_type": "execute_result"
    }
   ],
   "source": [
    "df.columns"
   ]
  },
  {
   "cell_type": "code",
   "execution_count": 4,
   "id": "6ab72ac2",
   "metadata": {},
   "outputs": [
    {
     "name": "stdout",
     "output_type": "stream",
     "text": [
      "<class 'pandas.core.frame.DataFrame'>\n",
      "RangeIndex: 55440 entries, 0 to 55439\n",
      "Data columns (total 11 columns):\n",
      " #   Column                       Non-Null Count  Dtype  \n",
      "---  ------                       --------------  -----  \n",
      " 0   Unnamed: 0                   55440 non-null  int64  \n",
      " 1   Country                      55440 non-null  object \n",
      " 2   Energy_type                  55440 non-null  object \n",
      " 3   Year                         55440 non-null  int64  \n",
      " 4   Energy_consumption           44287 non-null  float64\n",
      " 5   Energy_production            44289 non-null  float64\n",
      " 6   GDP                          40026 non-null  float64\n",
      " 7   Population                   46014 non-null  float64\n",
      " 8   Energy_intensity_per_capita  50358 non-null  float64\n",
      " 9   Energy_intensity_by_GDP      50358 non-null  float64\n",
      " 10  CO2_emission                 51614 non-null  float64\n",
      "dtypes: float64(7), int64(2), object(2)\n",
      "memory usage: 4.7+ MB\n"
     ]
    }
   ],
   "source": [
    "df.info()"
   ]
  },
  {
   "cell_type": "code",
   "execution_count": 5,
   "id": "cc7411a7",
   "metadata": {},
   "outputs": [
    {
     "data": {
      "text/plain": [
       "Unnamed: 0                         0\n",
       "Country                            0\n",
       "Energy_type                        0\n",
       "Year                               0\n",
       "Energy_consumption             11153\n",
       "Energy_production              11151\n",
       "GDP                            15414\n",
       "Population                      9426\n",
       "Energy_intensity_per_capita     5082\n",
       "Energy_intensity_by_GDP         5082\n",
       "CO2_emission                    3826\n",
       "dtype: int64"
      ]
     },
     "execution_count": 5,
     "metadata": {},
     "output_type": "execute_result"
    }
   ],
   "source": [
    "df.isnull().sum()"
   ]
  },
  {
   "cell_type": "code",
   "execution_count": 6,
   "id": "81e41644",
   "metadata": {},
   "outputs": [
    {
     "data": {
      "text/plain": [
       "0"
      ]
     },
     "execution_count": 6,
     "metadata": {},
     "output_type": "execute_result"
    }
   ],
   "source": [
    "df.duplicated().sum()"
   ]
  },
  {
   "cell_type": "code",
   "execution_count": 7,
   "id": "79c0c72a",
   "metadata": {},
   "outputs": [],
   "source": [
    "df.fillna(0, inplace=True)"
   ]
  },
  {
   "cell_type": "code",
   "execution_count": 8,
   "id": "0f4eb638",
   "metadata": {},
   "outputs": [
    {
     "data": {
      "text/plain": [
       "Unnamed: 0                     0\n",
       "Country                        0\n",
       "Energy_type                    0\n",
       "Year                           0\n",
       "Energy_consumption             0\n",
       "Energy_production              0\n",
       "GDP                            0\n",
       "Population                     0\n",
       "Energy_intensity_per_capita    0\n",
       "Energy_intensity_by_GDP        0\n",
       "CO2_emission                   0\n",
       "dtype: int64"
      ]
     },
     "execution_count": 8,
     "metadata": {},
     "output_type": "execute_result"
    }
   ],
   "source": [
    "df.isnull().sum()"
   ]
  },
  {
   "cell_type": "code",
   "execution_count": 9,
   "id": "3e723fa7",
   "metadata": {},
   "outputs": [
    {
     "data": {
      "text/plain": [
       "array(['World', 'Afghanistan', 'Albania', 'Algeria', 'American Samoa',\n",
       "       'Angola', 'Antarctica', 'Antigua and Barbuda', 'Argentina',\n",
       "       'Armenia', 'Aruba', 'Australia', 'Austria', 'Azerbaijan',\n",
       "       'Bahrain', 'Bangladesh', 'Barbados', 'Belarus', 'Belgium',\n",
       "       'Belize', 'Benin', 'Bermuda', 'Bhutan', 'Bolivia',\n",
       "       'Bosnia and Herzegovina', 'Botswana', 'Brazil',\n",
       "       'British Virgin Islands', 'Brunei', 'Bulgaria', 'Burkina Faso',\n",
       "       'Burma', 'Burundi', 'Cabo Verde', 'Cambodia', 'Cameroon', 'Canada',\n",
       "       'Cayman Islands', 'Central African Republic', 'Chad', 'Chile',\n",
       "       'China', 'Colombia', 'Comoros', 'Congo-Brazzaville',\n",
       "       'Congo-Kinshasa', 'Cook Islands', 'Costa Rica', 'Croatia', 'Cuba',\n",
       "       'Cyprus', 'Czech Republic', 'CÃ´te dâ€™Ivoire', 'Denmark',\n",
       "       'Djibouti', 'Dominica', 'Dominican Republic', 'Ecuador', 'Egypt',\n",
       "       'El Salvador', 'Equatorial Guinea', 'Eritrea', 'Estonia',\n",
       "       'Eswatini', 'Ethiopia', 'Falkland Islands', 'Faroe Islands',\n",
       "       'Fiji', 'Finland', 'Former Czechoslovakia',\n",
       "       'Former Serbia and Montenegro', 'Former U.S.S.R.',\n",
       "       'Former Yugoslavia', 'France', 'French Guiana', 'French Polynesia',\n",
       "       'Gabon', 'Gambia, The', 'Georgia', 'Germany', 'Germany, East',\n",
       "       'Germany, West', 'Ghana', 'Gibraltar', 'Greece', 'Greenland',\n",
       "       'Grenada', 'Guadeloupe', 'Guam', 'Guatemala', 'Guinea',\n",
       "       'Guinea-Bissau', 'Guyana', 'Haiti', 'Hawaiian Trade Zone',\n",
       "       'Honduras', 'Hong Kong', 'Hungary', 'Iceland', 'India',\n",
       "       'Indonesia', 'Iran', 'Iraq', 'Ireland', 'Israel', 'Italy',\n",
       "       'Jamaica', 'Japan', 'Jordan', 'Kazakhstan', 'Kenya', 'Kiribati',\n",
       "       'Kosovo', 'Kuwait', 'Kyrgyzstan', 'Laos', 'Latvia', 'Lebanon',\n",
       "       'Lesotho', 'Liberia', 'Libya', 'Lithuania', 'Luxembourg', 'Macau',\n",
       "       'Madagascar', 'Malawi', 'Malaysia', 'Maldives', 'Mali', 'Malta',\n",
       "       'Martinique', 'Mauritania', 'Mauritius', 'Mexico', 'Micronesia',\n",
       "       'Moldova', 'Mongolia', 'Montenegro', 'Montserrat', 'Morocco',\n",
       "       'Mozambique', 'Namibia', 'Nauru', 'Nepal', 'Netherlands',\n",
       "       'Netherlands Antilles', 'New Caledonia', 'New Zealand',\n",
       "       'Nicaragua', 'Niger', 'Nigeria', 'Niue', 'North Korea',\n",
       "       'North Macedonia', 'Northern Mariana Islands', 'Norway', 'Oman',\n",
       "       'Pakistan', 'Palestinian Territories', 'Panama',\n",
       "       'Papua New Guinea', 'Paraguay', 'Peru', 'Philippines', 'Poland',\n",
       "       'Portugal', 'Puerto Rico', 'Qatar', 'Reunion', 'Romania', 'Russia',\n",
       "       'Rwanda', 'Saint Helena', 'Saint Kitts and Nevis', 'Saint Lucia',\n",
       "       'Saint Pierre and Miquelon', 'Saint Vincent/Grenadines', 'Samoa',\n",
       "       'Sao Tome and Principe', 'Saudi Arabia', 'Senegal', 'Serbia',\n",
       "       'Seychelles', 'Sierra Leone', 'Singapore', 'Slovakia', 'Slovenia',\n",
       "       'Solomon Islands', 'Somalia', 'South Africa', 'South Korea',\n",
       "       'South Sudan', 'Spain', 'Sri Lanka', 'Sudan', 'Suriname', 'Sweden',\n",
       "       'Switzerland', 'Syria', 'Taiwan', 'Tajikistan', 'Tanzania',\n",
       "       'Thailand', 'The Bahamas', 'Timor-Leste', 'Togo', 'Tonga',\n",
       "       'Trinidad and Tobago', 'Tunisia', 'Turkey', 'Turkmenistan',\n",
       "       'Turks and Caicos Islands', 'Tuvalu', 'U.S. Pacific Islands',\n",
       "       'U.S. Territories', 'U.S. Virgin Islands', 'Uganda', 'Ukraine',\n",
       "       'United Arab Emirates', 'United Kingdom', 'United States',\n",
       "       'Uruguay', 'Uzbekistan', 'Vanuatu', 'Venezuela', 'Vietnam',\n",
       "       'Wake Island', 'Western Sahara', 'Yemen', 'Zambia', 'Zimbabwe'],\n",
       "      dtype=object)"
      ]
     },
     "execution_count": 9,
     "metadata": {},
     "output_type": "execute_result"
    }
   ],
   "source": [
    "df['Country'].unique()"
   ]
  },
  {
   "cell_type": "code",
   "execution_count": 19,
   "id": "45dd33a0",
   "metadata": {},
   "outputs": [
    {
     "data": {
      "text/plain": [
       "Country                        AfghanistanAfghanistanAfghanistanAfghanistanAf...\n",
       "Energy_type                    all_energy_typescoalnatural_gaspetroleum_n_oth...\n",
       "Year                                                                   110372400\n",
       "Energy_consumption                                                  34052.513363\n",
       "Energy_production                                                   33940.875413\n",
       "GDP                                                              16441004.179289\n",
       "Population                                                      1431227647.24518\n",
       "Energy_intensity_per_capita                                       3603945.134854\n",
       "Energy_intensity_by_GDP                                            184447.121174\n",
       "CO2_emission                                                      2033593.712357\n",
       "dtype: object"
      ]
     },
     "execution_count": 19,
     "metadata": {},
     "output_type": "execute_result"
    }
   ],
   "source": [
    "df[df['Country'] != 'World'].sum()"
   ]
  },
  {
   "cell_type": "code",
   "execution_count": 20,
   "id": "67249fb8",
   "metadata": {},
   "outputs": [],
   "source": [
    "df = df.drop(df[df['Country'] == 'World'].index)\n"
   ]
  },
  {
   "cell_type": "code",
   "execution_count": 21,
   "id": "87c2c857",
   "metadata": {},
   "outputs": [
    {
     "data": {
      "text/plain": [
       "array(['Afghanistan', 'Albania', 'Algeria', 'American Samoa', 'Angola',\n",
       "       'Antarctica', 'Antigua and Barbuda', 'Argentina', 'Armenia',\n",
       "       'Aruba', 'Australia', 'Austria', 'Azerbaijan', 'Bahrain',\n",
       "       'Bangladesh', 'Barbados', 'Belarus', 'Belgium', 'Belize', 'Benin',\n",
       "       'Bermuda', 'Bhutan', 'Bolivia', 'Bosnia and Herzegovina',\n",
       "       'Botswana', 'Brazil', 'British Virgin Islands', 'Brunei',\n",
       "       'Bulgaria', 'Burkina Faso', 'Burma', 'Burundi', 'Cabo Verde',\n",
       "       'Cambodia', 'Cameroon', 'Canada', 'Cayman Islands',\n",
       "       'Central African Republic', 'Chad', 'Chile', 'China', 'Colombia',\n",
       "       'Comoros', 'Congo-Brazzaville', 'Congo-Kinshasa', 'Cook Islands',\n",
       "       'Costa Rica', 'Croatia', 'Cuba', 'Cyprus', 'Czech Republic',\n",
       "       'CÃ´te dâ€™Ivoire', 'Denmark', 'Djibouti', 'Dominica',\n",
       "       'Dominican Republic', 'Ecuador', 'Egypt', 'El Salvador',\n",
       "       'Equatorial Guinea', 'Eritrea', 'Estonia', 'Eswatini', 'Ethiopia',\n",
       "       'Falkland Islands', 'Faroe Islands', 'Fiji', 'Finland',\n",
       "       'Former Czechoslovakia', 'Former Serbia and Montenegro',\n",
       "       'Former U.S.S.R.', 'Former Yugoslavia', 'France', 'French Guiana',\n",
       "       'French Polynesia', 'Gabon', 'Gambia, The', 'Georgia', 'Germany',\n",
       "       'Germany, East', 'Germany, West', 'Ghana', 'Gibraltar', 'Greece',\n",
       "       'Greenland', 'Grenada', 'Guadeloupe', 'Guam', 'Guatemala',\n",
       "       'Guinea', 'Guinea-Bissau', 'Guyana', 'Haiti',\n",
       "       'Hawaiian Trade Zone', 'Honduras', 'Hong Kong', 'Hungary',\n",
       "       'Iceland', 'India', 'Indonesia', 'Iran', 'Iraq', 'Ireland',\n",
       "       'Israel', 'Italy', 'Jamaica', 'Japan', 'Jordan', 'Kazakhstan',\n",
       "       'Kenya', 'Kiribati', 'Kosovo', 'Kuwait', 'Kyrgyzstan', 'Laos',\n",
       "       'Latvia', 'Lebanon', 'Lesotho', 'Liberia', 'Libya', 'Lithuania',\n",
       "       'Luxembourg', 'Macau', 'Madagascar', 'Malawi', 'Malaysia',\n",
       "       'Maldives', 'Mali', 'Malta', 'Martinique', 'Mauritania',\n",
       "       'Mauritius', 'Mexico', 'Micronesia', 'Moldova', 'Mongolia',\n",
       "       'Montenegro', 'Montserrat', 'Morocco', 'Mozambique', 'Namibia',\n",
       "       'Nauru', 'Nepal', 'Netherlands', 'Netherlands Antilles',\n",
       "       'New Caledonia', 'New Zealand', 'Nicaragua', 'Niger', 'Nigeria',\n",
       "       'Niue', 'North Korea', 'North Macedonia',\n",
       "       'Northern Mariana Islands', 'Norway', 'Oman', 'Pakistan',\n",
       "       'Palestinian Territories', 'Panama', 'Papua New Guinea',\n",
       "       'Paraguay', 'Peru', 'Philippines', 'Poland', 'Portugal',\n",
       "       'Puerto Rico', 'Qatar', 'Reunion', 'Romania', 'Russia', 'Rwanda',\n",
       "       'Saint Helena', 'Saint Kitts and Nevis', 'Saint Lucia',\n",
       "       'Saint Pierre and Miquelon', 'Saint Vincent/Grenadines', 'Samoa',\n",
       "       'Sao Tome and Principe', 'Saudi Arabia', 'Senegal', 'Serbia',\n",
       "       'Seychelles', 'Sierra Leone', 'Singapore', 'Slovakia', 'Slovenia',\n",
       "       'Solomon Islands', 'Somalia', 'South Africa', 'South Korea',\n",
       "       'South Sudan', 'Spain', 'Sri Lanka', 'Sudan', 'Suriname', 'Sweden',\n",
       "       'Switzerland', 'Syria', 'Taiwan', 'Tajikistan', 'Tanzania',\n",
       "       'Thailand', 'The Bahamas', 'Timor-Leste', 'Togo', 'Tonga',\n",
       "       'Trinidad and Tobago', 'Tunisia', 'Turkey', 'Turkmenistan',\n",
       "       'Turks and Caicos Islands', 'Tuvalu', 'U.S. Pacific Islands',\n",
       "       'U.S. Territories', 'U.S. Virgin Islands', 'Uganda', 'Ukraine',\n",
       "       'United Arab Emirates', 'United Kingdom', 'United States',\n",
       "       'Uruguay', 'Uzbekistan', 'Vanuatu', 'Venezuela', 'Vietnam',\n",
       "       'Wake Island', 'Western Sahara', 'Yemen', 'Zambia', 'Zimbabwe'],\n",
       "      dtype=object)"
      ]
     },
     "execution_count": 21,
     "metadata": {},
     "output_type": "execute_result"
    }
   ],
   "source": [
    "df['Country'].unique()"
   ]
  },
  {
   "cell_type": "code",
   "execution_count": 22,
   "id": "6bcb3ace",
   "metadata": {},
   "outputs": [],
   "source": [
    "df = df[df['Year']>=1988]"
   ]
  },
  {
   "cell_type": "code",
   "execution_count": 24,
   "id": "ce36702d",
   "metadata": {},
   "outputs": [
    {
     "data": {
      "text/plain": [
       "(44160, 10)"
      ]
     },
     "execution_count": 24,
     "metadata": {},
     "output_type": "execute_result"
    }
   ],
   "source": [
    "df.shape"
   ]
  },
  {
   "cell_type": "code",
   "execution_count": 25,
   "id": "2b4ba8db",
   "metadata": {},
   "outputs": [],
   "source": [
    "df.to_csv('cleaned_energy.csv',index=False)"
   ]
  },
  {
   "cell_type": "code",
   "execution_count": null,
   "id": "5ca85b90",
   "metadata": {},
   "outputs": [],
   "source": []
  }
 ],
 "metadata": {
  "kernelspec": {
   "display_name": "Python 3 (ipykernel)",
   "language": "python",
   "name": "python3"
  },
  "language_info": {
   "codemirror_mode": {
    "name": "ipython",
    "version": 3
   },
   "file_extension": ".py",
   "mimetype": "text/x-python",
   "name": "python",
   "nbconvert_exporter": "python",
   "pygments_lexer": "ipython3",
   "version": "3.9.13"
  }
 },
 "nbformat": 4,
 "nbformat_minor": 5
}
